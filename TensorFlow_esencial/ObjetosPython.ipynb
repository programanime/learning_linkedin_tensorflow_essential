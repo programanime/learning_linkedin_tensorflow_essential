{
 "cells": [
  {
   "cell_type": "markdown",
   "metadata": {},
   "source": [
    "# Objetos Python en TensorFlow\n",
    "\n",
    "## Definición: \n",
    "   Otra forma de crear tensores es a partir de objetos de Python\n",
    "\n",
    "\n",
    "## Sintaxis:    \n",
    "    \n",
    "       tf.convert_to_tensor(\n",
    "           objeto,\n",
    "           dtype\n",
    "           )"
   ]
  },
  {
   "cell_type": "code",
   "execution_count": 16,
   "metadata": {},
   "outputs": [
    {
     "name": "stdout",
     "output_type": "stream",
     "text": [
      "Valor del tensor  Tensor(\"Const_7:0\", shape=(), dtype=float64)\n",
      "Valor del tensor  5.9\n"
     ]
    }
   ],
   "source": [
    "import tensorflow as tf\n",
    "import numpy as np\n",
    "\n",
    "tfloat = tf.convert_to_tensor(5.9, dtype=tf.float64)\n",
    "print(\"Valor del tensor \", tfloat)\n",
    "sess = tf.Session()\n",
    "print(\"Valor del tensor \", sess.run(tfloat))\n"
   ]
  },
  {
   "cell_type": "code",
   "execution_count": 19,
   "metadata": {},
   "outputs": [
    {
     "name": "stdout",
     "output_type": "stream",
     "text": [
      "Valor de vvar  [1.  2.  3.  4.4 5. ]\n",
      "Valor de tvar  Tensor(\"Const_10:0\", shape=(5,), dtype=float64)\n",
      "Valor con contenido tvar  [1.  2.  3.  4.4 5. ]\n"
     ]
    }
   ],
   "source": [
    "vvar = np.array([1,2,3,4.4,5])\n",
    "print(\"Valor de vvar \", vvar)\n",
    "tvvar = tf.convert_to_tensor(vvar)\n",
    "print(\"Valor de tvar \", tvvar)\n",
    "sess = tf.Session()\n",
    "print(\"Valor con contenido tvar \", sess.run(tvvar))\n",
    "\n"
   ]
  }
 ],
 "metadata": {
  "kernelspec": {
   "display_name": "Python 3",
   "language": "python",
   "name": "python3"
  },
  "language_info": {
   "codemirror_mode": {
    "name": "ipython",
    "version": 3
   },
   "file_extension": ".py",
   "mimetype": "text/x-python",
   "name": "python",
   "nbconvert_exporter": "python",
   "pygments_lexer": "ipython3",
   "version": "3.6.8"
  }
 },
 "nbformat": 4,
 "nbformat_minor": 2
}
