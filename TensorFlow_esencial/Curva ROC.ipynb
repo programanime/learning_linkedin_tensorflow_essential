{
 "cells": [
  {
   "cell_type": "markdown",
   "metadata": {},
   "source": [
    "### Generación y adecuación de datos sintéticos\n",
    "* Generación de datos\n",
    "* Visualización\n",
    "* Codificación de la salida en one-hot\n",
    "* Separación de los conjuntos de training y test\n",
    "\n",
    "Todo utilizando la librería ScikitLearn\n"
   ]
  },
  {
   "cell_type": "code",
   "execution_count": null,
   "metadata": {},
   "outputs": [],
   "source": [
    "import tensorflow as tf\n",
    "from sklearn import datasets as skds\n"
   ]
  },
  {
   "cell_type": "code",
   "execution_count": null,
   "metadata": {},
   "outputs": [],
   "source": [
    "X, y = skds.make_classification(n_samples=4000,\n",
    "   n_features=2,\n",
    "   n_informative=2, \n",
    "   n_redundant=0,  \n",
    "   n_repeated=0, \n",
    "   n_classes=2,\n",
    "   n_clusters_per_class=1)\n",
    "print(y[1:6])"
   ]
  },
  {
   "cell_type": "code",
   "execution_count": null,
   "metadata": {},
   "outputs": [],
   "source": [
    "import matplotlib.pyplot as plt\n",
    "plt.scatter(X[:,0],X[:,1],marker='o',c=y)\n",
    "plt.show()"
   ]
  },
  {
   "cell_type": "code",
   "execution_count": null,
   "metadata": {
    "scrolled": true
   },
   "outputs": [],
   "source": [
    "print(y[1:6])\n",
    "import numpy as np\n",
    "y=np.eye(2)[y]\n",
    "print(y[1:6])"
   ]
  },
  {
   "cell_type": "code",
   "execution_count": null,
   "metadata": {},
   "outputs": [],
   "source": [
    "from sklearn.model_selection import train_test_split\n",
    "\n",
    "X_train, X_test, y_train, y_test = (train_test_split(X, y,test_size=0.20, random_state=17))\n",
    "\n",
    "print(\"X_train :\", X_train[1:4])\n",
    "print(\"y_train :\", y_train[1:4])\n",
    "\n",
    "print(\"X_test :\",X_test[1:4])\n",
    "print(\"y_test :\",y_test[1:4])"
   ]
  },
  {
   "cell_type": "markdown",
   "metadata": {},
   "source": [
    "### Definiendo variables y parámetros necesarios\n",
    "\n",
    "Tenemos la función que necesitamos entrenar es: y = wx + b\n",
    "\n",
    "Para ello vamos a definir todas las variables necesarias como las entradas\n",
    "\n",
    "\n",
    "   "
   ]
  },
  {
   "cell_type": "code",
   "execution_count": null,
   "metadata": {},
   "outputs": [],
   "source": [
    "nIn = X_train.shape[1]\n",
    "nOut = y_train.shape[1]\n",
    "print(nIn)\n",
    "print(nOut)"
   ]
  },
  {
   "cell_type": "code",
   "execution_count": null,
   "metadata": {},
   "outputs": [],
   "source": [
    "tasa_apren = 0.003\n",
    "tasa_apren\n"
   ]
  },
  {
   "cell_type": "code",
   "execution_count": null,
   "metadata": {},
   "outputs": [],
   "source": [
    "mix = tf.placeholder(dtype=tf.float32, shape=[None, nIn])\n",
    "miy = tf.placeholder(dtype=tf.float32, shape=[None, nOut])\n",
    "\n",
    "w = tf.Variable(tf.zeros([nIn,nOut]), dtype=tf.float32)\n",
    "b = tf.Variable(tf.zeros([nOut]), dtype=tf.float32)\n",
    "\n",
    "b[1:3]"
   ]
  },
  {
   "cell_type": "markdown",
   "metadata": {},
   "source": [
    "  "
   ]
  },
  {
   "cell_type": "markdown",
   "metadata": {},
   "source": [
    "   "
   ]
  },
  {
   "cell_type": "markdown",
   "metadata": {},
   "source": [
    "###  Definimos el modelo y las funciones de pérdida y optimización\n",
    "![alt text](modelo.png \"modelo\")  \n",
    " Debemos construir el modelo, para ello montaremos\n",
    " * Su definición\n",
    " * Funciones de pérdida \n",
    "\n",
    "Esto afecta a nuestra función de pérdida complicándola un poco más \n",
    "![alt text](imagename.png \"formula\")\n",
    "\n",
    " * Función de optimización\n"
   ]
  },
  {
   "cell_type": "code",
   "execution_count": null,
   "metadata": {},
   "outputs": [],
   "source": [
    "model = tf.nn.sigmoid(tf.matmul(mix,w)+b)"
   ]
  },
  {
   "cell_type": "code",
   "execution_count": null,
   "metadata": {},
   "outputs": [],
   "source": [
    "y_tra = tf.constant([6,2,4,2,2,5,5,2] , dtype=tf.float32)\n",
    "y_ten = tf.constant([5,2,4,1,1,4,6,2], dtype=tf.float32)\n",
    "sq = tf.square(y_tra - y_ten)\n",
    "loss = tf.reduce_mean(sq)\n",
    "sess = tf.Session()\n",
    "sess.run(loss)\n",
    "\n"
   ]
  },
  {
   "cell_type": "code",
   "execution_count": null,
   "metadata": {},
   "outputs": [],
   "source": [
    "y_mean = tf.reduce_mean(y_ten)\n",
    "total_error = tf.reduce_sum(tf.square(y_ten - y_mean))\n",
    "unexplained_error = tf.reduce_sum(tf.square(y_ten - y_tra))\n",
    "rs = 1 - tf.div(unexplained_error, total_error) \n",
    "sess = tf.Session() \n",
    "sess.run(rs)\n"
   ]
  },
  {
   "cell_type": "code",
   "execution_count": null,
   "metadata": {},
   "outputs": [],
   "source": [
    "loss = tf.reduce_mean(-tf.reduce_sum( (miy * tf.log(model)) + ((1 - miy) * tf.log(1 - model)), axis=1))\n"
   ]
  },
  {
   "cell_type": "code",
   "execution_count": null,
   "metadata": {},
   "outputs": [],
   "source": [
    "opt = tf.train.GradientDescentOptimizer(learning_rate=tasa_apren).minimize(loss)\n"
   ]
  },
  {
   "cell_type": "markdown",
   "metadata": {},
   "source": [
    "   "
   ]
  },
  {
   "cell_type": "markdown",
   "metadata": {},
   "source": [
    "   "
   ]
  },
  {
   "cell_type": "markdown",
   "metadata": {},
   "source": [
    "   "
   ]
  },
  {
   "cell_type": "markdown",
   "metadata": {},
   "source": [
    "  "
   ]
  },
  {
   "cell_type": "markdown",
   "metadata": {},
   "source": [
    "   "
   ]
  },
  {
   "cell_type": "markdown",
   "metadata": {},
   "source": [
    "## Entrenando el modelo\n",
    "\n",
    " Para entrenar nuestro modelo\n",
    " \n",
    " * Inicializar variables\n",
    " * Calcular la funcion de optimización\n",
    " * Calcular predicciones"
   ]
  },
  {
   "cell_type": "markdown",
   "metadata": {},
   "source": [
    "  "
   ]
  },
  {
   "cell_type": "code",
   "execution_count": null,
   "metadata": {},
   "outputs": [],
   "source": [
    "sess =tf.Session()"
   ]
  },
  {
   "cell_type": "code",
   "execution_count": null,
   "metadata": {},
   "outputs": [],
   "source": [
    "sess.run(tf.global_variables_initializer())\n",
    "res = sess.run(opt, feed_dict={mix: X_train, miy: y_train})"
   ]
  },
  {
   "cell_type": "code",
   "execution_count": null,
   "metadata": {},
   "outputs": [],
   "source": [
    "y_ori = sess.run(tf.argmax(miy,1), feed_dict = {miy:y_test})\n",
    "y_pred = sess.run(tf.argmax(model,1), feed_dict = {mix:X_test})"
   ]
  },
  {
   "cell_type": "code",
   "execution_count": null,
   "metadata": {},
   "outputs": [],
   "source": [
    "bi = sess.run(b, feed_dict = {mix:X_train, miy: y_train})\n",
    "wi = sess.run(w, feed_dict = {mix:X_train, miy: y_train})\n",
    "\n",
    "print(\"Nuestro modelo tiene una pinta y=\",wi[1,1],\"*x +\",bi[1])"
   ]
  },
  {
   "cell_type": "code",
   "execution_count": null,
   "metadata": {},
   "outputs": [],
   "source": [
    "import matplotlib.pyplot as plt\n",
    "\n",
    "plt.figure(figsize=(14, 4))\n",
    "plt.subplot(1, 2, 1)\n",
    "plt.scatter(X_test[:, 0], X_test[:, 1], marker='o', c=y_ori)\n",
    "plt.title('Original')\n",
    "plt.subplot(1, 2, 2)\n",
    "plt.scatter(X_test[:, 0], X_test[:, 1], marker='o', c=y_pred)\n",
    "plt.title('Predicted')\n",
    "plt.show()\n"
   ]
  },
  {
   "cell_type": "markdown",
   "metadata": {},
   "source": [
    "  "
   ]
  },
  {
   "cell_type": "markdown",
   "metadata": {},
   "source": [
    "   "
   ]
  },
  {
   "cell_type": "markdown",
   "metadata": {},
   "source": [
    "   "
   ]
  },
  {
   "cell_type": "markdown",
   "metadata": {},
   "source": [
    "   "
   ]
  },
  {
   "cell_type": "markdown",
   "metadata": {},
   "source": [
    "## Matriz de confusión   "
   ]
  },
  {
   "cell_type": "markdown",
   "metadata": {},
   "source": [
    "\n",
    "\n",
    "|         X  | X  | Verdad         | Verdad         |\n",
    "|------------|---|----------------|----------------|\n",
    "|            |   | +              | -              |\n",
    "| Predicción | + | true positive  | false positive |\n",
    "| Predicción | - | false negative | true negative  |"
   ]
  },
  {
   "cell_type": "code",
   "execution_count": null,
   "metadata": {},
   "outputs": [],
   "source": [
    "tp = tf.metrics.true_positives(y_pred, y_ori)\n",
    "with tf.Session() as sess:\n",
    "    sess.run(tf.local_variables_initializer())\n",
    "    a = sess.run(tp)\n",
    "    print(a[0])"
   ]
  },
  {
   "cell_type": "code",
   "execution_count": null,
   "metadata": {},
   "outputs": [],
   "source": [
    "tn = tf.metrics.true_negatives(y_pred, y_ori)\n",
    "with tf.Session() as sess:\n",
    "    sess.run(tf.local_variables_initializer())\n",
    "    a = sess.run(tp)\n",
    "    print(a[0])"
   ]
  },
  {
   "cell_type": "code",
   "execution_count": null,
   "metadata": {},
   "outputs": [],
   "source": [
    "fp = tf.metrics.false_positives(y_pred, y_ori)\n",
    "with tf.Session() as sess:\n",
    "    sess.run(tf.local_variables_initializer())\n",
    "    a = sess.run(tp)\n",
    "    print(a[0])"
   ]
  },
  {
   "cell_type": "code",
   "execution_count": null,
   "metadata": {},
   "outputs": [],
   "source": [
    "fn = tf.metrics.false_negatives(y_pred, y_ori)\n",
    "with tf.Session() as sess:\n",
    "    sess.run(tf.local_variables_initializer())\n",
    "    a = sess.run(tp)\n",
    "    print(a[0])"
   ]
  },
  {
   "cell_type": "code",
   "execution_count": null,
   "metadata": {},
   "outputs": [],
   "source": [
    "mc = tf.math.confusion_matrix(y_ori, y_pred)\n",
    "with tf.Session() as sess:\n",
    "    sess.run(tf.local_variables_initializer())\n",
    "    a = sess.run(mc)\n",
    "    print(a)"
   ]
  },
  {
   "cell_type": "code",
   "execution_count": null,
   "metadata": {},
   "outputs": [],
   "source": [
    "tn = 335\n",
    "tp = 391\n",
    "fn = 51\n",
    "fp = 23\n"
   ]
  },
  {
   "cell_type": "markdown",
   "metadata": {},
   "source": [
    "   "
   ]
  },
  {
   "cell_type": "markdown",
   "metadata": {},
   "source": [
    "    "
   ]
  },
  {
   "cell_type": "markdown",
   "metadata": {},
   "source": [
    "## Precisión y recall\n",
    "\n",
    "\n",
    "* Accuracy (ACC) = Σ True positive + Σ True negative/Σ Total population\n",
    "\n",
    "\n",
    "* Positive predictive value (PPV), Precision = Σ True positive/Σ Predicted condition positive\n",
    "\n",
    " \n",
    "* Recall = Σ True positive/Σ Condition positive\n",
    "\n",
    "\n",
    "* Nomenclatura de variables: \n",
    "\n",
    "    tp = True positive \n",
    "    \n",
    "    tn = True negative\n",
    "    \n",
    "    fp = False positive\n",
    "    \n",
    "    fn = False negative\n"
   ]
  },
  {
   "cell_type": "markdown",
   "metadata": {},
   "source": [
    "  "
   ]
  },
  {
   "cell_type": "code",
   "execution_count": null,
   "metadata": {},
   "outputs": [],
   "source": [
    "trues = tf.add(tp, tn)\n",
    "falses = tf.add(fp,fn)\n",
    "total = tf.add(trues, falses)\n",
    "totalp = tf.add(tp,fp)\n",
    "totaltp = tf.add(tp,fn)\n"
   ]
  },
  {
   "cell_type": "code",
   "execution_count": null,
   "metadata": {},
   "outputs": [],
   "source": [
    "#Accuracy (ACC) = Σ True positive + Σ True negative/Σ Total population\n",
    "acc = tf.divide(tp ,totalp) \n",
    "with tf.Session() as sess:\n",
    "    sess.run(tf.local_variables_initializer())\n",
    "    a = sess.run(acc)\n",
    "    print(\"Accuracy \", a[0])\n"
   ]
  },
  {
   "cell_type": "markdown",
   "metadata": {},
   "source": [
    "  "
   ]
  },
  {
   "cell_type": "code",
   "execution_count": null,
   "metadata": {},
   "outputs": [],
   "source": [
    "#Positive predictive value (PPV), Precision = Σ True positive/Σ Predicted condition positive\n",
    "precision = tf.divide(tp ,totaltp)\n",
    "with tf.Session() as sess:\n",
    "    sess.run(tf.local_variables_initializer())\n",
    "    a = sess.run(precision)\n",
    "    print(\"Precision \", a[0])\n"
   ]
  },
  {
   "cell_type": "code",
   "execution_count": null,
   "metadata": {},
   "outputs": [],
   "source": [
    "# Recall = Σ True positive/Σ Condition positivetotalp\n",
    "recall = tf.divide(trues, total)\n",
    "with tf.Session() as sess:\n",
    "    sess.run(tf.local_variables_initializer())\n",
    "    a = sess.run(recall)\n",
    "    print(\"recall \", a[0])\n"
   ]
  },
  {
   "cell_type": "code",
   "execution_count": null,
   "metadata": {},
   "outputs": [],
   "source": [
    "acc = tf.metrics.accuracy(y_ori, y_pred)\n",
    "precision = tf.metrics.precision(y_ori, y_pred)\n",
    "recall = tf.metrics.recall(y_ori, y_pred)\n",
    "\n",
    "with tf.Session() as sess:\n",
    "    sess.run(tf.local_variables_initializer())\n",
    "    a  = sess.run([recall,precision, acc])\n",
    "    print(\"Recall2 \", a[2][1])\n",
    "    print(\"Precision2 \", a[1][1])\n",
    "    print(\"Accuracy2 \", a[0][1])\n",
    "\n"
   ]
  },
  {
   "cell_type": "markdown",
   "metadata": {},
   "source": [
    "# TEMA 8 Curva ROC\n"
   ]
  },
  {
   "cell_type": "code",
   "execution_count": null,
   "metadata": {},
   "outputs": [],
   "source": [
    "roc = tf.metrics.auc(y_ori, y_pred)\n",
    "with tf.Session() as sess:\n",
    "    sess.run(tf.local_variables_initializer())\n",
    "    c = sess.run(roc)\n",
    "    print(c)\n",
    "import matplotlib.pyplot as plt\n"
   ]
  },
  {
   "cell_type": "code",
   "execution_count": null,
   "metadata": {},
   "outputs": [],
   "source": [
    "from sklearn import metrics\n",
    "\n",
    "fpr, tpr, _ = metrics.roc_curve(y_ori,  y_pred)\n",
    "auc = metrics.roc_auc_score(y_ori, y_pred)\n",
    "plt.plot(fpr,tpr,label=\"data , auc=\"+str(auc))\n",
    "plt.legend(loc=4)\n",
    "plt.show()\n"
   ]
  },
  {
   "cell_type": "code",
   "execution_count": null,
   "metadata": {},
   "outputs": [],
   "source": []
  },
  {
   "cell_type": "code",
   "execution_count": null,
   "metadata": {},
   "outputs": [],
   "source": []
  },
  {
   "cell_type": "code",
   "execution_count": null,
   "metadata": {},
   "outputs": [],
   "source": []
  }
 ],
 "metadata": {
  "kernelspec": {
   "display_name": "Python 3",
   "language": "python",
   "name": "python3"
  },
  "language_info": {
   "codemirror_mode": {
    "name": "ipython",
    "version": 3
   },
   "file_extension": ".py",
   "mimetype": "text/x-python",
   "name": "python",
   "nbconvert_exporter": "python",
   "pygments_lexer": "ipython3",
   "version": "3.4.3"
  }
 },
 "nbformat": 4,
 "nbformat_minor": 2
}
