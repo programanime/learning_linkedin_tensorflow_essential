{
 "cells": [
  {
   "cell_type": "markdown",
   "metadata": {},
   "source": [
    "### Generación y adecuación de datos sintéticos\n",
    "* Generación de datos\n",
    "* Visualización\n",
    "* Codificación de la salida en one-hot\n",
    "* Separación de los conjuntos de training y test\n",
    "\n",
    "Todo utilizando la librería ScikitLearn\n"
   ]
  },
  {
   "cell_type": "code",
   "execution_count": 11,
   "metadata": {},
   "outputs": [],
   "source": [
    "import tensorflow as tf\n",
    "from sklearn import datasets as skds\n"
   ]
  },
  {
   "cell_type": "code",
   "execution_count": 12,
   "metadata": {},
   "outputs": [
    {
     "name": "stdout",
     "output_type": "stream",
     "text": [
      "[0 0 1 1 0]\n"
     ]
    }
   ],
   "source": [
    "X, y = skds.make_classification(n_samples=400,\n",
    "   n_features=2,\n",
    "   n_informative=2, \n",
    "   n_redundant=0,  \n",
    "   n_repeated=0, \n",
    "   n_classes=2,\n",
    "   n_clusters_per_class=1)\n",
    "print(y[1:6])"
   ]
  },
  {
   "cell_type": "code",
   "execution_count": 13,
   "metadata": {},
   "outputs": [
    {
     "data": {
      "image/png": "[encoded data removed]",
      "text/plain": [
       "<Figure size 432x288 with 1 Axes>"
      ]
     },
     "metadata": {
      "needs_background": "light"
     },
     "output_type": "display_data"
    }
   ],
   "source": [
    "import matplotlib.pyplot as plt\n",
    "plt.scatter(X[:,0],X[:,1],marker='o',c=y)\n",
    "plt.show()"
   ]
  },
  {
   "cell_type": "code",
   "execution_count": 14,
   "metadata": {
    "scrolled": true
   },
   "outputs": [
    {
     "name": "stdout",
     "output_type": "stream",
     "text": [
      "[0 0 1 1 0]\n",
      "[[1. 0.]\n",
      " [1. 0.]\n",
      " [0. 1.]\n",
      " [0. 1.]\n",
      " [1. 0.]]\n"
     ]
    }
   ],
   "source": [
    "print(y[1:6])\n",
    "import numpy as np\n",
    "y=np.eye(2)[y]\n",
    "print(y[1:6])"
   ]
  },
  {
   "cell_type": "code",
   "execution_count": 15,
   "metadata": {},
   "outputs": [
    {
     "name": "stdout",
     "output_type": "stream",
     "text": [
      "X_train : [[-2.03725624 -1.0762051 ]\n",
      " [ 0.83157165 -0.58526899]\n",
      " [ 1.43681973 -1.24691311]]\n",
      "y_train : [[0. 1.]\n",
      " [1. 0.]\n",
      " [1. 0.]]\n",
      "X_test : [[ 0.98164205 -1.23134026]\n",
      " [-0.88336587  2.45562895]\n",
      " [-1.05815313  1.49337207]]\n",
      "y_test : [[1. 0.]\n",
      " [0. 1.]\n",
      " [0. 1.]]\n"
     ]
    }
   ],
   "source": [
    "from sklearn.model_selection import train_test_split\n",
    "\n",
    "X_train, X_test, y_train, y_test = (train_test_split(X, y,test_size=0.20, random_state=17))\n",
    "\n",
    "print(\"X_train :\", X_train[1:4])\n",
    "print(\"y_train :\", y_train[1:4])\n",
    "\n",
    "print(\"X_test :\",X_test[1:4])\n",
    "print(\"y_test :\",y_test[1:4])"
   ]
  },
  {
   "cell_type": "markdown",
   "metadata": {},
   "source": [
    "### Definiendo variables y parámetros necesarios\n",
    "\n",
    "Tenemos la función que necesitamos entrenar es: y = wx + b\n",
    "\n",
    "Para ello vamos a definir todas las variables necesarias como las entradas\n",
    "\n",
    "\n",
    "   "
   ]
  },
  {
   "cell_type": "code",
   "execution_count": 18,
   "metadata": {},
   "outputs": [
    {
     "name": "stdout",
     "output_type": "stream",
     "text": [
      "2\n",
      "2\n"
     ]
    }
   ],
   "source": [
    "nIn = X_train.shape[1]\n",
    "nOut = y_train.shape[1]\n",
    "print(nIn)\n",
    "print(nOut)"
   ]
  },
  {
   "cell_type": "code",
   "execution_count": 19,
   "metadata": {},
   "outputs": [
    {
     "data": {
      "text/plain": [
       "0.003"
      ]
     },
     "execution_count": 19,
     "metadata": {},
     "output_type": "execute_result"
    }
   ],
   "source": [
    "tasa_apren = 0.003\n",
    "tasa_apren\n"
   ]
  },
  {
   "cell_type": "code",
   "execution_count": 26,
   "metadata": {},
   "outputs": [
    {
     "data": {
      "text/plain": [
       "<tf.Tensor 'strided_slice:0' shape=(1,) dtype=float32>"
      ]
     },
     "execution_count": 26,
     "metadata": {},
     "output_type": "execute_result"
    }
   ],
   "source": [
    "mix = tf.placeholder(dtype=tf.float32, shape=[None, nIn])\n",
    "mit = tf.placeholder(dtype=tf.float32, shape=[None, nOut])\n",
    "\n",
    "w = tf.Variable(tf.zeros([nIn,nOut]), dtype=tf.float32)\n",
    "b = tf.Variable(tf.zeros([nOut]), dtype=tf.float32)\n",
    "\n",
    "b[1:3]"
   ]
  },
  {
   "cell_type": "markdown",
   "metadata": {},
   "source": [
    " \n",
    " "
   ]
  },
  {
   "cell_type": "markdown",
   "metadata": {},
   "source": [
    " "
   ]
  },
  {
   "cell_type": "markdown",
   "metadata": {},
   "source": [
    " "
   ]
  },
  {
   "cell_type": "markdown",
   "metadata": {},
   "source": [
    " "
   ]
  },
  {
   "cell_type": "markdown",
   "metadata": {},
   "source": [
    "  "
   ]
  },
  {
   "cell_type": "markdown",
   "metadata": {},
   "source": [
    "    "
   ]
  },
  {
   "cell_type": "markdown",
   "metadata": {},
   "source": [
    "   "
   ]
  }
 ],
 "metadata": {
  "kernelspec": {
   "display_name": "Python 3",
   "language": "python",
   "name": "python3"
  },
  "language_info": {
   "codemirror_mode": {
    "name": "ipython",
    "version": 3
   },
   "file_extension": ".py",
   "mimetype": "text/x-python",
   "name": "python",
   "nbconvert_exporter": "python",
   "pygments_lexer": "ipython3",
   "version": "3.6.8"
  }
 },
 "nbformat": 4,
 "nbformat_minor": 2
}
